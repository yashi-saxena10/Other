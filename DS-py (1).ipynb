{
 "cells": [
  {
   "cell_type": "code",
   "execution_count": 4,
   "metadata": {},
   "outputs": [
    {
     "name": "stdout",
     "output_type": "stream",
     "text": [
      "alice 3719\n",
      "{0: 0, 1: 1, 2: 4, 3: 9, 4: 16, 5: 25}\n"
     ]
    }
   ],
   "source": [
    "#following : https://realpython.com/python-data-structures/\n",
    "\n",
    "#dict-->Your Go-To Dictionary\n",
    "#Dicts can hold an arbitrary number of objects, each with its own dictionary key.\n",
    "#Maps, hashmaps, lookup tables, and associative arrays are other names for dictionaries. \n",
    "#They make it possible to efficiently look up, insert, and delete any object associated with a given key.\n",
    "\n",
    "#Phone books are a good analogy for dictionary objects in the real world.\n",
    "\n",
    "#syntax: curly braces {}\n",
    "\n",
    "#Python’s dictionaries can be of any hashable type.\n",
    "#Hashable object: has a hash value that does not change over time (see __hash__) and can be compared to other objects (see __eq__). \n",
    "#Hashable objects with the same hash value must be compared as equal.\n",
    "\n",
    "#also use tuple objects as dictionary keys\n",
    "#Immutable types like strings and numbers work well as dictionary keys\n",
    "\n",
    "#class attributes and variables in a stack frame are both stored internally in dictionaries.\n",
    "\n",
    "#O(1) time complexity for lookup, insert, update, and delete operations in the average case.\n",
    "\n",
    "phonebook = {\n",
    "     \"bob\": 7387,\n",
    "     \"alice\": 3719,\n",
    "    \"jack\": 7052,\n",
    "}\n",
    "\n",
    "print(\"alice\",phonebook['alice'])\n",
    "\n",
    "squares = {x: x * x for x in range(6)} \n",
    "print(squares)"
   ]
  },
  {
   "cell_type": "code",
   "execution_count": 5,
   "metadata": {},
   "outputs": [
    {
     "name": "stdout",
     "output_type": "stream",
     "text": [
      "OrderedDict([('one', 1), ('two', 2), ('three', 3)])\n",
      "OrderedDict([('one', 1), ('two', 2), ('three', 3), ('four', 4)])\n",
      "odict_keys(['one', 'two', 'three', 'four'])\n"
     ]
    }
   ],
   "source": [
    "#collections.OrderedDict-->specialized dict subclass that remembers the insertion order of keys\n",
    "\n",
    "import collections\n",
    "od = collections.OrderedDict(one=1, two=2, three=3)\n",
    "print(od)\n",
    "\n",
    "od[\"four\"] = 4\n",
    "print(od)\n",
    "\n",
    "print(od.keys())"
   ]
  },
  {
   "cell_type": "code",
   "execution_count": 8,
   "metadata": {},
   "outputs": [
    {
     "name": "stdout",
     "output_type": "stream",
     "text": [
      "defaultdict(<class 'list'>, {'dogs': ['Rufus', 'Kathrin']})\n"
     ]
    }
   ],
   "source": [
    "#collections.defaultdict-->Return Default Values for Missing Keys\n",
    "#When each key is encountered for the first time, it is not already in the mapping; \n",
    "#so an entry is automatically created using the default_factory function which returns an empty list. \n",
    "#The list.append() operation then attaches the value to the new list. \n",
    "#When keys are encountered again, the look-up proceeds normally (returning the list for that key) and the list.append() operation adds another value to the list. \n",
    "#This technique is simpler and faster than an equivalent technique using dict.setdefault():\n",
    "\n",
    "from collections import defaultdict\n",
    "dd = defaultdict(list)\n",
    "dd[\"dogs\"].append(\"Rufus\")\n",
    "dd[\"dogs\"].append(\"Kathrin\")\n",
    "dd[\"dogs\"].append(\"Mr Sniffles\")\n",
    "print(dd)"
   ]
  },
  {
   "cell_type": "code",
   "execution_count": 9,
   "metadata": {},
   "outputs": [
    {
     "name": "stdout",
     "output_type": "stream",
     "text": [
      "ChainMap({'one': 1, 'two': 2}, {'three': 3, 'four': 4})\n",
      "3\n"
     ]
    },
    {
     "ename": "<class 'KeyError'>",
     "evalue": "'missing'",
     "output_type": "error",
     "traceback": [
      "\u001b[0;31m---------------------------------------------------------------------------\u001b[0m",
      "\u001b[0;31mKeyError\u001b[0m                                  Traceback (most recent call last)",
      "Input \u001b[0;32mIn [9]\u001b[0m, in \u001b[0;36m<cell line: 11>\u001b[0;34m()\u001b[0m\n\u001b[1;32m      9\u001b[0m \u001b[38;5;28mprint\u001b[39m(chain)\n\u001b[1;32m     10\u001b[0m \u001b[38;5;28mprint\u001b[39m(chain[\u001b[38;5;124m\"\u001b[39m\u001b[38;5;124mthree\u001b[39m\u001b[38;5;124m\"\u001b[39m])\n\u001b[0;32m---> 11\u001b[0m \u001b[38;5;28mprint\u001b[39m(\u001b[43mchain\u001b[49m\u001b[43m[\u001b[49m\u001b[38;5;124;43m\"\u001b[39;49m\u001b[38;5;124;43mmissing\u001b[39;49m\u001b[38;5;124;43m\"\u001b[39;49m\u001b[43m]\u001b[49m)\n",
      "File \u001b[0;32m/lib/python3.10/collections/__init__.py:982\u001b[0m, in \u001b[0;36mChainMap.__getitem__\u001b[0;34m(self, key)\u001b[0m\n\u001b[1;32m    980\u001b[0m     \u001b[38;5;28;01mexcept\u001b[39;00m \u001b[38;5;167;01mKeyError\u001b[39;00m:\n\u001b[1;32m    981\u001b[0m         \u001b[38;5;28;01mpass\u001b[39;00m\n\u001b[0;32m--> 982\u001b[0m \u001b[38;5;28;01mreturn\u001b[39;00m \u001b[38;5;28;43mself\u001b[39;49m\u001b[38;5;241;43m.\u001b[39;49m\u001b[38;5;21;43m__missing__\u001b[39;49m\u001b[43m(\u001b[49m\u001b[43mkey\u001b[49m\u001b[43m)\u001b[49m\n",
      "File \u001b[0;32m/lib/python3.10/collections/__init__.py:974\u001b[0m, in \u001b[0;36mChainMap.__missing__\u001b[0;34m(self, key)\u001b[0m\n\u001b[1;32m    973\u001b[0m \u001b[38;5;28;01mdef\u001b[39;00m \u001b[38;5;21m__missing__\u001b[39m(\u001b[38;5;28mself\u001b[39m, key):\n\u001b[0;32m--> 974\u001b[0m     \u001b[38;5;28;01mraise\u001b[39;00m \u001b[38;5;167;01mKeyError\u001b[39;00m(key)\n",
      "\u001b[0;31mKeyError\u001b[0m: 'missing'"
     ]
    }
   ],
   "source": [
    "#collections.ChainMap-->Search Multiple Dictionaries as a Single Mapping\n",
    "# ChainMap searches each collection in the chain\n",
    "# from left to right until it finds the key (or fails):\n",
    "from collections import ChainMap\n",
    "dict1 = {\"one\": 1, \"two\": 2}\n",
    "dict2 = {\"three\": 3, \"four\": 4}\n",
    "chain = ChainMap(dict1, dict2)\n",
    "\n",
    "print(chain)\n",
    "print(chain[\"three\"])\n",
    "print(chain[\"missing\"]) #KeyError: 'missing'"
   ]
  },
  {
   "cell_type": "code",
   "execution_count": 10,
   "metadata": {},
   "outputs": [
    {
     "name": "stdout",
     "output_type": "stream",
     "text": [
      "1\n"
     ]
    },
    {
     "ename": "<class 'TypeError'>",
     "evalue": "'mappingproxy' object does not support item assignment",
     "output_type": "error",
     "traceback": [
      "\u001b[0;31m---------------------------------------------------------------------------\u001b[0m",
      "\u001b[0;31mTypeError\u001b[0m                                 Traceback (most recent call last)",
      "Input \u001b[0;32mIn [10]\u001b[0m, in \u001b[0;36m<cell line: 9>\u001b[0;34m()\u001b[0m\n\u001b[1;32m      6\u001b[0m read_only \u001b[38;5;241m=\u001b[39m MappingProxyType(writable)\n\u001b[1;32m      8\u001b[0m \u001b[38;5;28mprint\u001b[39m(read_only[\u001b[38;5;124m\"\u001b[39m\u001b[38;5;124mone\u001b[39m\u001b[38;5;124m\"\u001b[39m])\n\u001b[0;32m----> 9\u001b[0m read_only[\u001b[38;5;124m\"\u001b[39m\u001b[38;5;124mone\u001b[39m\u001b[38;5;124m\"\u001b[39m] \u001b[38;5;241m=\u001b[39m \u001b[38;5;241m23\u001b[39m\n\u001b[1;32m     11\u001b[0m writable[\u001b[38;5;124m\"\u001b[39m\u001b[38;5;124mone\u001b[39m\u001b[38;5;124m\"\u001b[39m] \u001b[38;5;241m=\u001b[39m \u001b[38;5;241m42\u001b[39m\n",
      "\u001b[0;31mTypeError\u001b[0m: 'mappingproxy' object does not support item assignment"
     ]
    }
   ],
   "source": [
    "#types.MappingProxyType-->A Wrapper for Making Read-Only Dictionaries\n",
    "#create immutable proxy versions of dictionaries.\n",
    "\n",
    "from types import MappingProxyType\n",
    "writable = {\"one\": 1, \"two\": 2}\n",
    "read_only = MappingProxyType(writable)\n",
    "\n",
    "print(read_only[\"one\"])\n",
    "read_only[\"one\"] = 23 #TypeError: 'mappingproxy' object does not support item assignment\n",
    "\n",
    "writable[\"one\"] = 42"
   ]
  }
 ],
 "metadata": {
  "kernelspec": {
   "display_name": "Python 3 (ipykernel)",
   "language": "python",
   "name": "python3"
  },
  "language_info": {
   "codemirror_mode": {
    "name": "ipython",
    "version": 3
   },
   "file_extension": ".py",
   "mimetype": "text/x-python",
   "name": "python",
   "nbconvert_exporter": "python",
   "pygments_lexer": "ipython3",
   "version": "3.9.7"
  }
 },
 "nbformat": 4,
 "nbformat_minor": 4
}
