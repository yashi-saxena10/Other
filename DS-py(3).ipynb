{
  "metadata": {
    "language_info": {
      "codemirror_mode": {
        "name": "python",
        "version": 3
      },
      "file_extension": ".py",
      "mimetype": "text/x-python",
      "name": "python",
      "nbconvert_exporter": "python",
      "pygments_lexer": "ipython3",
      "version": "3.8"
    },
    "kernelspec": {
      "name": "python",
      "display_name": "Pyolite",
      "language": "python"
    }
  },
  "nbformat_minor": 4,
  "nbformat": 4,
  "cells": [
    {
      "cell_type": "code",
      "source": "#Records, Structs, and Data Transfer Objects\n#record data structures provide a fixed number of fields. \n#Each field can have a name and may also have a different type.\n\n#dict-->Simple Data Objects covered in previous file\n#tuple-->Immutable Groups of Objects covered in previous file\n\n#Custom Class-->More Work, More Control\n#Classes allow you to define reusable blueprints for data objects to ensure each object provides the same set of fields.\n#not convenient unless need to add some business logic \n#adding new fields to the __init__ constructor is verbose and takes time.\n\nclass Car:\n    def __init__(self, color, mileage, automatic):\n        self.color = color\n        self.mileage = mileage\n        self.automatic = automatic\n\ncar1 = Car(\"red\", 3812.4, True)\ncar2 = Car(\"blue\", 40231.0, False)\n\n# Get the mileage:\nprint(car2.mileage)\n\n\n# Classes are mutable:\ncar2.mileage = 12\ncar2.windshield = \"broken\"\n\n# String representation is not very useful\n# (must add a manually written __repr__ method): for representaion \nprint(car1)",
      "metadata": {
        "trusted": true
      },
      "execution_count": 1,
      "outputs": [
        {
          "name": "stdout",
          "text": "40231.0\n<__main__.Car object at 0x18e5a40>\n",
          "output_type": "stream"
        }
      ]
    },
    {
      "cell_type": "code",
      "source": "#dataclasses.dataclass-->Python 3.7+ Data Classes\n#syntax defining instance variables is shorter,don’t need to implement the .__init__() method.\n#Nice-looking string representation via an auto-generated .__repr__() method.\n#Instance variables accept type annotations, data class self-documenting. \n#Keep in mind that type annotations are just hints that are not enforced without a separate type-checking tool.\n#Data classes are typically created using the @dataclass decorator\n\nfrom dataclasses import dataclass\n@dataclass\nclass Car:\n    color: str\n    mileage: float\n    automatic: bool\n\ncar1 = Car(\"red\", 3812.4, True)\n\n# Instances have a nice repr:\nprint(car1)\n\n# Accessing fields:\nprint(car1.mileage)\n\n# Fields are mutable:\ncar1.mileage = 12\ncar1.windshield = \"broken\"\n\n# Type annotations are not enforced without\n# a separate type checking tool like mypy:\nprint(Car(\"red\", \"NOT_A_FLOAT\", 99))",
      "metadata": {
        "trusted": true
      },
      "execution_count": 2,
      "outputs": [
        {
          "name": "stdout",
          "text": "Car(color='red', mileage=3812.4, automatic=True)\n3812.4\nCar(color='red', mileage='NOT_A_FLOAT', automatic=99)\n",
          "output_type": "stream"
        }
      ]
    },
    {
      "cell_type": "code",
      "source": "#collections.namedtuple-->Convenient Data Objects\n#extension of the built-in tuple data type\n#define reusable blueprints for your records that ensure the correct field names are used.\n#namedtuple objects are immutable\n#object stored in them can be accessed through a unique identifier\n\nfrom collections import namedtuple\nfrom sys import getsizeof\n\np1 = namedtuple(\"Point\", \"x y z\")(1, 2, 3)\np2 = (1, 2, 3)\n\nprint(getsizeof(p1))\n\nprint(getsizeof(p2))\n\nCar = namedtuple(\"Car\" , \"color mileage automatic\")\ncar1 = Car(\"red\", 3812.4, True)\n# Instances have a nice repr:\nprint(car1)\n\n# Accessing fields:\nprint(car1.mileage)\n\n# Fields are immtuable:\ncar1.mileage = 12 #AttributeError: can't set attribute\n\ncar1.windshield = \"broken\" #AttributeError: 'Car' object has no attribute 'windshield'",
      "metadata": {
        "trusted": true
      },
      "execution_count": 3,
      "outputs": [
        {
          "name": "stdout",
          "text": "32\n32\nCar(color='red', mileage=3812.4, automatic=True)\n3812.4\n",
          "output_type": "stream"
        },
        {
          "ename": "<class 'AttributeError'>",
          "evalue": "can't set attribute",
          "traceback": [
            "\u001b[0;31m---------------------------------------------------------------------------\u001b[0m",
            "\u001b[0;31mAttributeError\u001b[0m                            Traceback (most recent call last)",
            "Input \u001b[0;32mIn [3]\u001b[0m, in \u001b[0;36m<cell line: 26>\u001b[0;34m()\u001b[0m\n\u001b[1;32m     23\u001b[0m \u001b[38;5;28mprint\u001b[39m(car1\u001b[38;5;241m.\u001b[39mmileage)\n\u001b[1;32m     25\u001b[0m \u001b[38;5;66;03m# Fields are immtuable:\u001b[39;00m\n\u001b[0;32m---> 26\u001b[0m car1\u001b[38;5;241m.\u001b[39mmileage \u001b[38;5;241m=\u001b[39m \u001b[38;5;241m12\u001b[39m \u001b[38;5;66;03m#AttributeError: can't set attribute\u001b[39;00m\n\u001b[1;32m     28\u001b[0m car1\u001b[38;5;241m.\u001b[39mwindshield \u001b[38;5;241m=\u001b[39m \u001b[38;5;124m\"\u001b[39m\u001b[38;5;124mbroken\u001b[39m\u001b[38;5;124m\"\u001b[39m\n",
            "\u001b[0;31mAttributeError\u001b[0m: can't set attribute"
          ],
          "output_type": "error"
        }
      ]
    },
    {
      "cell_type": "code",
      "source": "#typing.NamedTuple-->Improved Namedtuples\n#younger sibling of the namedtuple class in the collections\n#updated syntax for defining new record types and added support for type hints.\n\nfrom typing import NamedTuple\n\nclass Car(NamedTuple):\n    color: str\n    mileage: float\n    automatic: bool\n\ncar1 = Car(\"red\", 3812.4, True)\n\n# Instances have a nice repr:\nprint(car1)\n\n# Accessing fields:\nprint(car1.mileage)\n\n# Fields are immutable:\ncar1.mileage = 12  #AttributeError: can't set attribute\n\ncar1.windshield = \"broken\"  #AttributeError: 'Car' object has no attribute 'windshield'\n\n# Type annotations are not enforced without\n# a separate type checking tool like mypy:\nprint(Car(\"red\", \"NOT_A_FLOAT\", 99))",
      "metadata": {
        "trusted": true
      },
      "execution_count": 4,
      "outputs": [
        {
          "name": "stdout",
          "text": "Car(color='red', mileage=3812.4, automatic=True)\n3812.4\n",
          "output_type": "stream"
        },
        {
          "ename": "<class 'AttributeError'>",
          "evalue": "can't set attribute",
          "traceback": [
            "\u001b[0;31m---------------------------------------------------------------------------\u001b[0m",
            "\u001b[0;31mAttributeError\u001b[0m                            Traceback (most recent call last)",
            "Input \u001b[0;32mIn [4]\u001b[0m, in \u001b[0;36m<cell line: 21>\u001b[0;34m()\u001b[0m\n\u001b[1;32m     18\u001b[0m \u001b[38;5;28mprint\u001b[39m(car1\u001b[38;5;241m.\u001b[39mmileage)\n\u001b[1;32m     20\u001b[0m \u001b[38;5;66;03m# Fields are immutable:\u001b[39;00m\n\u001b[0;32m---> 21\u001b[0m car1\u001b[38;5;241m.\u001b[39mmileage \u001b[38;5;241m=\u001b[39m \u001b[38;5;241m12\u001b[39m  \u001b[38;5;66;03m#AttributeError: can't set attribute\u001b[39;00m\n\u001b[1;32m     23\u001b[0m car1\u001b[38;5;241m.\u001b[39mwindshield \u001b[38;5;241m=\u001b[39m \u001b[38;5;124m\"\u001b[39m\u001b[38;5;124mbroken\u001b[39m\u001b[38;5;124m\"\u001b[39m  \u001b[38;5;66;03m#AttributeError: 'Car' object has no attribute 'windshield'\u001b[39;00m\n\u001b[1;32m     25\u001b[0m \u001b[38;5;66;03m# Type annotations are not enforced without\u001b[39;00m\n\u001b[1;32m     26\u001b[0m \u001b[38;5;66;03m# a separate type checking tool like mypy:\u001b[39;00m\n",
            "\u001b[0;31mAttributeError\u001b[0m: can't set attribute"
          ],
          "output_type": "error"
        }
      ]
    },
    {
      "cell_type": "code",
      "source": "#struct.Struct-->Serialized C Structs\n#converts between Python values and C structs serialized into Python bytes objects. \n#it can be used to handle binary data stored in files or coming in from network connections.\n#defined using a mini language based on format strings \n#allows you to define the arrangement of various C data types like char, int, and long as well as their unsigned variants.\n#used to represent data objects meant to be handled purely inside Python code. \n#intended primarily as a data exchange format \n\nfrom struct import Struct\nMyStruct = Struct(\"i?f\")\ndata = MyStruct.pack(23, False, 42.0)\n\n# All you get is a blob of data:\nprint(data)\n\n# Data blobs can be unpacked again:\nprint(MyStruct.unpack(data))",
      "metadata": {
        "trusted": true
      },
      "execution_count": 5,
      "outputs": [
        {
          "name": "stdout",
          "text": "b'\\x17\\x00\\x00\\x00\\x00\\x00\\x00\\x00\\x00\\x00(B'\n(23, False, 42.0)\n",
          "output_type": "stream"
        }
      ]
    },
    {
      "cell_type": "code",
      "source": "#types.SimpleNamespace-->Fancy Attribute Access\n#provides attribute access to its namespace.\n# instances expose all of their keys as class attributes\n#basically a dictionary that allows attribute access and prints nicely\n\nfrom types import SimpleNamespace\ncar1 = SimpleNamespace(color=\"red\", mileage=3812.4, automatic=True)\n\n# The default repr:\nprint(car1)\n\n# Instances support attribute access and are mutable:\ncar1.mileage = 12\ncar1.windshield = \"broken\"\ndel car1.automatic\nprint(car1)",
      "metadata": {
        "trusted": true
      },
      "execution_count": 6,
      "outputs": [
        {
          "name": "stdout",
          "text": "namespace(color='red', mileage=3812.4, automatic=True)\nnamespace(color='red', mileage=12, windshield='broken')\n",
          "output_type": "stream"
        }
      ]
    },
    {
      "cell_type": "code",
      "source": "",
      "metadata": {},
      "execution_count": null,
      "outputs": []
    }
  ]
}