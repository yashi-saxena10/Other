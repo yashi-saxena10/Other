{
 "cells": [
  {
   "cell_type": "code",
   "execution_count": 1,
   "id": "b8457cdd-fda6-4b47-9ff3-95957d6cfd16",
   "metadata": {},
   "outputs": [
    {
     "name": "stdout",
     "output_type": "stream",
     "text": [
      "one\n",
      "['one', 'two', 'three']\n",
      "['one', 'hello', 'three']\n",
      "['one', 'three']\n",
      "['one', 'three', 23]\n"
     ]
    }
   ],
   "source": [
    "#Array Data Structures\n",
    "#contiguous data structures \n",
    "#A real-world analogy for an array data structure is a parking lot\n",
    "#parking lot as a whole and treat it as a single object, \n",
    "#but inside the lot there are parking spots indexed by a unique number. Parking spots are containers for vehicles\n",
    "#NumPy and pandas offer a wide range of fast array implementations \n",
    "\n",
    "#list-->Mutable Dynamic Arrays\n",
    "#implemented as dynamic arrays behind the scenes.\n",
    "#allows elements to be added or removed, and the list will automatically adjust the backing store that holds these elements by allocating or releasing memory.\n",
    "#Python lists can hold arbitrary elements—everything is an object in Python, including functions.\n",
    "\n",
    "arr = [\"one\", \"two\", \"three\"]\n",
    "print(arr[0])\n",
    "\n",
    "#Lists have a nice repr:\n",
    "print(arr)\n",
    "\n",
    "#Lists are mutable:\n",
    "arr[1] = \"hello\"\n",
    "print(arr)\n",
    "\n",
    "del arr[1]\n",
    "print(arr)\n",
    "\n",
    "#Lists can hold arbitrary data types:\n",
    "arr.append(23)\n",
    "print(arr)"
   ]
  },
  {
   "cell_type": "code",
   "execution_count": 2,
   "id": "9ecd508f-2d62-4029-9611-7336d5234681",
   "metadata": {},
   "outputs": [
    {
     "name": "stdout",
     "output_type": "stream",
     "text": [
      "one\n",
      "('one', 'two', 'three')\n"
     ]
    },
    {
     "ename": "TypeError",
     "evalue": "'tuple' object does not support item assignment",
     "output_type": "error",
     "traceback": [
      "\u001b[1;31m---------------------------------------------------------------------------\u001b[0m",
      "\u001b[1;31mTypeError\u001b[0m                                 Traceback (most recent call last)",
      "\u001b[1;32m~\\AppData\\Local\\Temp/ipykernel_1948/415157917.py\u001b[0m in \u001b[0;36m<module>\u001b[1;34m\u001b[0m\n\u001b[0;32m     10\u001b[0m \u001b[1;33m\u001b[0m\u001b[0m\n\u001b[0;32m     11\u001b[0m \u001b[1;31m# Tuples are immutable:\u001b[0m\u001b[1;33m\u001b[0m\u001b[1;33m\u001b[0m\u001b[0m\n\u001b[1;32m---> 12\u001b[1;33m \u001b[0marr\u001b[0m\u001b[1;33m[\u001b[0m\u001b[1;36m1\u001b[0m\u001b[1;33m]\u001b[0m \u001b[1;33m=\u001b[0m \u001b[1;34m\"hello\"\u001b[0m \u001b[1;31m#TypeError: 'tuple' object does not support item assignment\u001b[0m\u001b[1;33m\u001b[0m\u001b[1;33m\u001b[0m\u001b[0m\n\u001b[0m\u001b[0;32m     13\u001b[0m \u001b[1;33m\u001b[0m\u001b[0m\n\u001b[0;32m     14\u001b[0m \u001b[1;32mdel\u001b[0m \u001b[0marr\u001b[0m\u001b[1;33m[\u001b[0m\u001b[1;36m1\u001b[0m\u001b[1;33m]\u001b[0m \u001b[1;31m#TypeError: 'tuple' object doesn't support item deletion\u001b[0m\u001b[1;33m\u001b[0m\u001b[1;33m\u001b[0m\u001b[0m\n",
      "\u001b[1;31mTypeError\u001b[0m: 'tuple' object does not support item assignment"
     ]
    }
   ],
   "source": [
    "#tuple-->Immutable Containers\n",
    "#elements can’t be added or removed dynamically—all elements in a tuple must be defined at creation time.\n",
    "\n",
    "arr = (\"one\", \"two\", \"three\")\n",
    "print(arr[0])\n",
    "\n",
    "\n",
    "# Tuples have a nice repr:\n",
    "print(arr)\n",
    "\n",
    "# Tuples are immutable:\n",
    "arr[1] = \"hello\" #TypeError: 'tuple' object does not support item assignment\n",
    "\n",
    "del arr[1] #TypeError: 'tuple' object doesn't support item deletion\n",
    "\n",
    "# Tuples can hold arbitrary data types:\n",
    "# (Adding elements creates a copy of the tuple)\n",
    "arr + (23,)\n",
    "print(arr)"
   ]
  },
  {
   "cell_type": "code",
   "execution_count": 3,
   "id": "97ffd084-0a17-424e-9e27-a97a1e5a0ad4",
   "metadata": {},
   "outputs": [
    {
     "name": "stdout",
     "output_type": "stream",
     "text": [
      "1.5\n",
      "array('f', [1.0, 1.5, 2.0, 2.5])\n",
      "array('f', [1.0, 23.0, 2.0, 2.5])\n",
      "array('f', [1.0, 2.0, 2.5])\n",
      "array('f', [1.0, 2.0, 2.5, 42.0])\n"
     ]
    },
    {
     "ename": "TypeError",
     "evalue": "must be real number, not str",
     "output_type": "error",
     "traceback": [
      "\u001b[1;31m---------------------------------------------------------------------------\u001b[0m",
      "\u001b[1;31mTypeError\u001b[0m                                 Traceback (most recent call last)",
      "\u001b[1;32m~\\AppData\\Local\\Temp/ipykernel_1948/1563997796.py\u001b[0m in \u001b[0;36m<module>\u001b[1;34m\u001b[0m\n\u001b[0;32m     21\u001b[0m \u001b[1;33m\u001b[0m\u001b[0m\n\u001b[0;32m     22\u001b[0m \u001b[1;31m# Arrays are \"typed\":\u001b[0m\u001b[1;33m\u001b[0m\u001b[1;33m\u001b[0m\u001b[0m\n\u001b[1;32m---> 23\u001b[1;33m \u001b[0marr\u001b[0m\u001b[1;33m[\u001b[0m\u001b[1;36m1\u001b[0m\u001b[1;33m]\u001b[0m \u001b[1;33m=\u001b[0m \u001b[1;34m\"hello\"\u001b[0m   \u001b[1;31m#TypeError: must be real number, not str\u001b[0m\u001b[1;33m\u001b[0m\u001b[1;33m\u001b[0m\u001b[0m\n\u001b[0m",
      "\u001b[1;31mTypeError\u001b[0m: must be real number, not str"
     ]
    }
   ],
   "source": [
    "#array.array-->Basic Typed Arrays\n",
    "#Arrays created with the array.array class are mutable and behave similarly to lists\n",
    "#they’re typed arrays constrained to a single data type\n",
    "\n",
    "import array\n",
    "arr = array.array(\"f\", (1.0, 1.5, 2.0, 2.5))\n",
    "print(arr[1])\n",
    "\n",
    "# Arrays have a nice repr:\n",
    "print(arr)\n",
    "\n",
    "# Arrays are mutable:\n",
    "arr[1] = 23.0\n",
    "print(arr)\n",
    "\n",
    "del arr[1]\n",
    "print(arr)\n",
    "\n",
    "arr.append(42.0)\n",
    "print(arr)\n",
    "\n",
    "# Arrays are \"typed\":\n",
    "arr[1] = \"hello\"   #TypeError: must be real number, not str"
   ]
  },
  {
   "cell_type": "code",
   "execution_count": 5,
   "id": "c6391382-0868-419e-8941-887325bcbeaf",
   "metadata": {},
   "outputs": [
    {
     "name": "stdout",
     "output_type": "stream",
     "text": [
      "b\n",
      "abcd\n"
     ]
    },
    {
     "ename": "TypeError",
     "evalue": "'str' object does not support item assignment",
     "output_type": "error",
     "traceback": [
      "\u001b[1;31m---------------------------------------------------------------------------\u001b[0m",
      "\u001b[1;31mTypeError\u001b[0m                                 Traceback (most recent call last)",
      "\u001b[1;32m~\\AppData\\Local\\Temp/ipykernel_1948/4017228342.py\u001b[0m in \u001b[0;36m<module>\u001b[1;34m\u001b[0m\n\u001b[0;32m      8\u001b[0m \u001b[1;33m\u001b[0m\u001b[0m\n\u001b[0;32m      9\u001b[0m \u001b[1;31m#Strings are immutable:\u001b[0m\u001b[1;33m\u001b[0m\u001b[1;33m\u001b[0m\u001b[0m\n\u001b[1;32m---> 10\u001b[1;33m \u001b[0marr\u001b[0m\u001b[1;33m[\u001b[0m\u001b[1;36m1\u001b[0m\u001b[1;33m]\u001b[0m \u001b[1;33m=\u001b[0m \u001b[1;34m\"e\"\u001b[0m\u001b[1;33m\u001b[0m\u001b[1;33m\u001b[0m\u001b[0m\n\u001b[0m\u001b[0;32m     11\u001b[0m \u001b[1;33m\u001b[0m\u001b[0m\n\u001b[0;32m     12\u001b[0m \u001b[1;32mdel\u001b[0m \u001b[0marr\u001b[0m\u001b[1;33m[\u001b[0m\u001b[1;36m1\u001b[0m\u001b[1;33m]\u001b[0m\u001b[1;33m\u001b[0m\u001b[1;33m\u001b[0m\u001b[0m\n",
      "\u001b[1;31mTypeError\u001b[0m: 'str' object does not support item assignment"
     ]
    }
   ],
   "source": [
    "#str-->Immutable Arrays of Unicode Characters\n",
    "#recursive data structure—each character in a string is itself a str object of length 1.\n",
    "\n",
    "arr = \"abcd\"\n",
    "print(arr[1])\n",
    "\n",
    "print(arr)\n",
    "\n",
    "#Strings are immutable:\n",
    "arr[1] = \"e\" #TypeError: 'str' object does not support item assignment\n",
    "\n",
    "del arr[1] #TypeError: 'str' object doesn't support item deletion\n",
    "\n",
    "#Strings can be unpacked into a list to\n",
    "#get a mutable representation:\n",
    "ll=list(\"abcd\")\n",
    "lstr=['a', 'b', 'c', 'd'].join(list(\"abcd\"))\n",
    "print(lstr)\n",
    "\n",
    "#Strings are recursive data structures:\n",
    "print(type(\"abc\"))\n",
    "print(type(\"abc\"[0]))"
   ]
  },
  {
   "cell_type": "code",
   "execution_count": 7,
   "id": "5112fd88-4c28-41aa-8b3f-4744ae6ef3db",
   "metadata": {},
   "outputs": [
    {
     "name": "stdout",
     "output_type": "stream",
     "text": [
      "1\n",
      "b'\\x00\\x01\\x02\\x03'\n"
     ]
    },
    {
     "ename": "ValueError",
     "evalue": "bytes must be in range(0, 256)",
     "output_type": "error",
     "traceback": [
      "\u001b[1;31m---------------------------------------------------------------------------\u001b[0m",
      "\u001b[1;31mValueError\u001b[0m                                Traceback (most recent call last)",
      "\u001b[1;32m~\\AppData\\Local\\Temp/ipykernel_1948/4269219320.py\u001b[0m in \u001b[0;36m<module>\u001b[1;34m\u001b[0m\n\u001b[0;32m     10\u001b[0m \u001b[1;33m\u001b[0m\u001b[0m\n\u001b[0;32m     11\u001b[0m \u001b[1;31m#Only valid `bytes` are allowed:\u001b[0m\u001b[1;33m\u001b[0m\u001b[1;33m\u001b[0m\u001b[0m\n\u001b[1;32m---> 12\u001b[1;33m \u001b[0mbytes\u001b[0m\u001b[1;33m(\u001b[0m\u001b[1;33m(\u001b[0m\u001b[1;36m0\u001b[0m\u001b[1;33m,\u001b[0m \u001b[1;36m300\u001b[0m\u001b[1;33m)\u001b[0m\u001b[1;33m)\u001b[0m   \u001b[1;31m#ValueError: bytes must be in range(0, 256)\u001b[0m\u001b[1;33m\u001b[0m\u001b[1;33m\u001b[0m\u001b[0m\n\u001b[0m\u001b[0;32m     13\u001b[0m \u001b[1;33m\u001b[0m\u001b[0m\n\u001b[0;32m     14\u001b[0m \u001b[1;31m#Bytes are immutable:\u001b[0m\u001b[1;33m\u001b[0m\u001b[1;33m\u001b[0m\u001b[0m\n",
      "\u001b[1;31mValueError\u001b[0m: bytes must be in range(0, 256)"
     ]
    }
   ],
   "source": [
    "#bytes-->Immutable Arrays of Single Bytes\n",
    "#bytes objects are immutable sequences of single bytes, or integers in the range 0 ≤ x ≤ 255.\n",
    "\n",
    "arr = bytes((0, 1, 2, 3))\n",
    "print(arr[1])\n",
    "\n",
    "#Bytes literals have their own syntax:\n",
    "print(arr)\n",
    "arr = b\"\\x00\\x01\\x02\\x03\"\n",
    "\n",
    "#Only valid `bytes` are allowed:\n",
    "bytes((0, 300))   #ValueError: bytes must be in range(0, 256)\n",
    "\n",
    "#Bytes are immutable:\n",
    "arr[1] = 23   #TypeError: 'bytes' object does not support item assignment\n",
    "\n",
    "del arr[1]   #TypeError: 'bytes' object doesn't support item deletion"
   ]
  },
  {
   "cell_type": "code",
   "execution_count": 8,
   "id": "2b10afcb-62bb-4baf-872f-bdd714594a6e",
   "metadata": {},
   "outputs": [
    {
     "name": "stdout",
     "output_type": "stream",
     "text": [
      "1\n",
      "bytearray(b'\\x00\\x01\\x02\\x03')\n",
      "bytearray(b'\\x00\\x17\\x02\\x03')\n",
      "bytearray(b'\\x00\\x02\\x03')\n",
      "bytearray(b'\\x00\\x02\\x03*')\n"
     ]
    },
    {
     "ename": "TypeError",
     "evalue": "'str' object cannot be interpreted as an integer",
     "output_type": "error",
     "traceback": [
      "\u001b[1;31m---------------------------------------------------------------------------\u001b[0m",
      "\u001b[1;31mTypeError\u001b[0m                                 Traceback (most recent call last)",
      "\u001b[1;32m~\\AppData\\Local\\Temp/ipykernel_1948/3717015282.py\u001b[0m in \u001b[0;36m<module>\u001b[1;34m\u001b[0m\n\u001b[0;32m     21\u001b[0m \u001b[1;31m# Bytearrays can only hold `bytes`\u001b[0m\u001b[1;33m\u001b[0m\u001b[1;33m\u001b[0m\u001b[0m\n\u001b[0;32m     22\u001b[0m \u001b[1;31m# (integers in the range 0 <= x <= 255)\u001b[0m\u001b[1;33m\u001b[0m\u001b[1;33m\u001b[0m\u001b[0m\n\u001b[1;32m---> 23\u001b[1;33m \u001b[0marr\u001b[0m\u001b[1;33m[\u001b[0m\u001b[1;36m1\u001b[0m\u001b[1;33m]\u001b[0m \u001b[1;33m=\u001b[0m \u001b[1;34m\"hello\"\u001b[0m \u001b[1;31m#TypeError: 'str' object cannot be interpreted as an integer\u001b[0m\u001b[1;33m\u001b[0m\u001b[1;33m\u001b[0m\u001b[0m\n\u001b[0m\u001b[0;32m     24\u001b[0m \u001b[1;33m\u001b[0m\u001b[0m\n\u001b[0;32m     25\u001b[0m \u001b[0marr\u001b[0m\u001b[1;33m[\u001b[0m\u001b[1;36m1\u001b[0m\u001b[1;33m]\u001b[0m \u001b[1;33m=\u001b[0m \u001b[1;36m300\u001b[0m  \u001b[1;31m#ValueError: byte must be in range(0, 256)\u001b[0m\u001b[1;33m\u001b[0m\u001b[1;33m\u001b[0m\u001b[0m\n",
      "\u001b[1;31mTypeError\u001b[0m: 'str' object cannot be interpreted as an integer"
     ]
    }
   ],
   "source": [
    "#bytearray-->Mutable Arrays of Single Bytes\n",
    "#range 0 ≤ x ≤ 255\n",
    "\n",
    "arr = bytearray((0, 1, 2, 3))\n",
    "print(arr[1])\n",
    "\n",
    "# The bytearray repr:\n",
    "print(arr)\n",
    "\n",
    "# Bytearrays are mutable:\n",
    "arr[1] = 23\n",
    "print(arr)\n",
    "\n",
    "# Bytearrays can grow and shrink in size:\n",
    "del arr[1]\n",
    "print(arr)\n",
    "\n",
    "arr.append(42)\n",
    "print(arr)\n",
    "\n",
    "# Bytearrays can only hold `bytes`\n",
    "# (integers in the range 0 <= x <= 255)\n",
    "arr[1] = \"hello\" #TypeError: 'str' object cannot be interpreted as an integer\n",
    "\n",
    "arr[1] = 300  #ValueError: byte must be in range(0, 256)\n",
    "\n",
    "# Bytearrays can be converted back into bytes objects:\n",
    "# (This will copy the data)\n",
    "bb=bytes(arr)\n",
    "print(bb)"
   ]
  },
  {
   "cell_type": "code",
   "execution_count": null,
   "id": "e46b4008-caf5-4006-a6c7-e675237d9906",
   "metadata": {},
   "outputs": [],
   "source": []
  }
 ],
 "metadata": {
  "kernelspec": {
   "display_name": "Python 3 (ipykernel)",
   "language": "python",
   "name": "python3"
  },
  "language_info": {
   "codemirror_mode": {
    "name": "ipython",
    "version": 3
   },
   "file_extension": ".py",
   "mimetype": "text/x-python",
   "name": "python",
   "nbconvert_exporter": "python",
   "pygments_lexer": "ipython3",
   "version": "3.9.7"
  }
 },
 "nbformat": 4,
 "nbformat_minor": 5
}
