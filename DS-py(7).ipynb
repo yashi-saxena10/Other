{
 "cells": [
  {
   "cell_type": "code",
   "execution_count": 1,
   "id": "e84b5c91-a9f4-4947-a0a1-668ab8034cfc",
   "metadata": {},
   "outputs": [
    {
     "name": "stdout",
     "output_type": "stream",
     "text": [
      "(1, 'eat')\n",
      "(2, 'code')\n",
      "(3, 'sleep')\n"
     ]
    }
   ],
   "source": [
    "#Priority Queues\n",
    "#container data structure\n",
    "#manages a set of records with totally-ordered keys \n",
    "#to provide quick access to the record with the smallest or largest key in the set.\n",
    "#commonly used for dealing with scheduling problems\n",
    "\n",
    "#list-->Manually Sorted Queues\n",
    "#sorted list to quickly identify and delete the smallest or largest element.\n",
    "#inserting new elements into a list is a slow O(n) operation.\n",
    "#insertion point can be found in O(log n) time using bisect.insort \n",
    "\n",
    "q = []\n",
    "q.append((2, \"code\"))\n",
    "q.append((1, \"eat\"))\n",
    "q.append((3, \"sleep\"))\n",
    "# Remember to re-sort every time a new element is inserted,\n",
    "# or use bisect.insort()\n",
    "q.sort(reverse=True)\n",
    "\n",
    "while q:\n",
    "    next_item = q.pop()\n",
    "    print(next_item)"
   ]
  },
  {
   "cell_type": "code",
   "execution_count": 2,
   "id": "e412b0f6-34a4-4054-9ba0-08bb02bcdcbe",
   "metadata": {},
   "outputs": [
    {
     "name": "stdout",
     "output_type": "stream",
     "text": [
      "(1, 'eat')\n",
      "(2, 'code')\n",
      "(3, 'sleep')\n"
     ]
    }
   ],
   "source": [
    "#heapq-->List-Based Binary Heaps\n",
    "#supports insertion and extraction of the smallest element in O(log n) time.\n",
    "#provides only a min-heap implementation, \n",
    "#extra steps must be taken to ensure sort stability and other features typically expected from a practical priority queue:\n",
    "\n",
    "import heapq\n",
    "q = []\n",
    "heapq.heappush(q, (2, \"code\"))\n",
    "heapq.heappush(q, (1, \"eat\"))\n",
    "heapq.heappush(q, (3, \"sleep\"))\n",
    "\n",
    "while q:\n",
    "    next_item = heapq.heappop(q)\n",
    "    print(next_item)"
   ]
  },
  {
   "cell_type": "code",
   "execution_count": 3,
   "id": "5ad36206-77b9-484b-984c-326220236555",
   "metadata": {},
   "outputs": [
    {
     "name": "stdout",
     "output_type": "stream",
     "text": [
      "(1, 'eat')\n",
      "(2, 'code')\n",
      "(3, 'sleep')\n"
     ]
    }
   ],
   "source": [
    "#queue.PriorityQueue-->Beautiful Priority Queues\n",
    "#synchronized and provides locking semantics to support multiple concurrent producers and consumers.\n",
    "#class-based interface provided by PriorityQueue over the function-based interface provided by heapq:\n",
    "\n",
    "from queue import PriorityQueue\n",
    "q = PriorityQueue()\n",
    "q.put((2, \"code\"))\n",
    "q.put((1, \"eat\"))\n",
    "q.put((3, \"sleep\"))\n",
    "\n",
    "while not q.empty():\n",
    "    next_item = q.get()\n",
    "    print(next_item)"
   ]
  },
  {
   "cell_type": "code",
   "execution_count": null,
   "id": "9bb79cec-1b81-4010-bdf8-99f83e5c0fd6",
   "metadata": {},
   "outputs": [],
   "source": []
  }
 ],
 "metadata": {
  "kernelspec": {
   "display_name": "Python 3 (ipykernel)",
   "language": "python",
   "name": "python3"
  },
  "language_info": {
   "codemirror_mode": {
    "name": "ipython",
    "version": 3
   },
   "file_extension": ".py",
   "mimetype": "text/x-python",
   "name": "python",
   "nbconvert_exporter": "python",
   "pygments_lexer": "ipython3",
   "version": "3.9.7"
  }
 },
 "nbformat": 4,
 "nbformat_minor": 5
}
