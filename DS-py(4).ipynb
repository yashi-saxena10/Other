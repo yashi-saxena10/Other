{
  "metadata": {
    "language_info": {
      "codemirror_mode": {
        "name": "python",
        "version": 3
      },
      "file_extension": ".py",
      "mimetype": "text/x-python",
      "name": "python",
      "nbconvert_exporter": "python",
      "pygments_lexer": "ipython3",
      "version": "3.8"
    },
    "kernelspec": {
      "name": "python",
      "display_name": "Pyolite",
      "language": "python"
    }
  },
  "nbformat_minor": 4,
  "nbformat": 4,
  "cells": [
    {
      "cell_type": "code",
      "source": "#Sets and Multisets\n#set:unordered collection of objects, no duplicate elements\n#used to quickly test a value for membership, to insert or delete new values, and to compute the union or intersection of two sets.\n#membership tests : fast O(1) time\n#Union, intersection, difference, and subset operations :  O(n) time on average\n\n#set-->Your Go-To Set\n#built-in set implementation\n#mutable,dynamic insertion and deletion of elements\n#backed by the dict data type and share the same performance characteristics\n\nvowels = {\"a\", \"e\", \"i\", \"o\", \"u\"}\nprint(\"e\" in vowels)\n\nletters = set(\"alice\")\nprint(letters.intersection(vowels))\n\nvowels.add(\"x\")\nprint(vowels)\n\nprint(len(vowels))",
      "metadata": {
        "trusted": true
      },
      "execution_count": 1,
      "outputs": [
        {
          "name": "stdout",
          "text": "True\n{'e', 'a', 'i'}\n{'u', 'o', 'i', 'x', 'e', 'a'}\n6\n",
          "output_type": "stream"
        }
      ]
    },
    {
      "cell_type": "code",
      "source": "#frozenset-->Immutable Sets\n#immutable version of set \n#static and hashable,can be used as dictionary keys or as elements of another set\n\nvowels = frozenset({\"a\", \"e\", \"i\", \"o\", \"u\"})\nvowels.add(\"p\")  #AttributeError: 'frozenset' object has no attribute 'add'\n\n# Frozensets are hashable and can\n# be used as dictionary keys:\nd = { frozenset({1, 2, 3}): \"hello\" }\nprint(d[frozenset({1, 2, 3})])",
      "metadata": {
        "trusted": true
      },
      "execution_count": 2,
      "outputs": [
        {
          "ename": "<class 'AttributeError'>",
          "evalue": "'frozenset' object has no attribute 'add'",
          "traceback": [
            "\u001b[0;31m---------------------------------------------------------------------------\u001b[0m",
            "\u001b[0;31mAttributeError\u001b[0m                            Traceback (most recent call last)",
            "Input \u001b[0;32mIn [2]\u001b[0m, in \u001b[0;36m<cell line: 6>\u001b[0;34m()\u001b[0m\n\u001b[1;32m      1\u001b[0m \u001b[38;5;66;03m#frozenset-->Immutable Sets\u001b[39;00m\n\u001b[1;32m      2\u001b[0m \u001b[38;5;66;03m#immutable version of set \u001b[39;00m\n\u001b[1;32m      3\u001b[0m \u001b[38;5;66;03m#static and hashable,can be used as dictionary keys or as elements of another set\u001b[39;00m\n\u001b[1;32m      5\u001b[0m vowels \u001b[38;5;241m=\u001b[39m \u001b[38;5;28mfrozenset\u001b[39m({\u001b[38;5;124m\"\u001b[39m\u001b[38;5;124ma\u001b[39m\u001b[38;5;124m\"\u001b[39m, \u001b[38;5;124m\"\u001b[39m\u001b[38;5;124me\u001b[39m\u001b[38;5;124m\"\u001b[39m, \u001b[38;5;124m\"\u001b[39m\u001b[38;5;124mi\u001b[39m\u001b[38;5;124m\"\u001b[39m, \u001b[38;5;124m\"\u001b[39m\u001b[38;5;124mo\u001b[39m\u001b[38;5;124m\"\u001b[39m, \u001b[38;5;124m\"\u001b[39m\u001b[38;5;124mu\u001b[39m\u001b[38;5;124m\"\u001b[39m})\n\u001b[0;32m----> 6\u001b[0m \u001b[43mvowels\u001b[49m\u001b[38;5;241;43m.\u001b[39;49m\u001b[43madd\u001b[49m(\u001b[38;5;124m\"\u001b[39m\u001b[38;5;124mp\u001b[39m\u001b[38;5;124m\"\u001b[39m)  \u001b[38;5;66;03m#AttributeError: 'frozenset' object has no attribute 'add'\u001b[39;00m\n\u001b[1;32m      8\u001b[0m \u001b[38;5;66;03m# Frozensets are hashable and can\u001b[39;00m\n\u001b[1;32m      9\u001b[0m \u001b[38;5;66;03m# be used as dictionary keys:\u001b[39;00m\n\u001b[1;32m     10\u001b[0m d \u001b[38;5;241m=\u001b[39m { \u001b[38;5;28mfrozenset\u001b[39m({\u001b[38;5;241m1\u001b[39m, \u001b[38;5;241m2\u001b[39m, \u001b[38;5;241m3\u001b[39m}): \u001b[38;5;124m\"\u001b[39m\u001b[38;5;124mhello\u001b[39m\u001b[38;5;124m\"\u001b[39m }\n",
            "\u001b[0;31mAttributeError\u001b[0m: 'frozenset' object has no attribute 'add'"
          ],
          "output_type": "error"
        }
      ]
    },
    {
      "cell_type": "code",
      "source": "#collections.Counter-->Multisets\n#implements a multiset, or bag, type that allows duplicates\n#len() returns the number of unique elements\n#total number of elements can be retrieved using sum()\n\nfrom collections import Counter\ninventory = Counter()\n\nloot = {\"sword\": 1, \"bread\": 3}\ninventory.update(loot)\nprint(inventory)\n\nmore_loot = {\"sword\": 1, \"apple\": 1}\ninventory.update(more_loot)\nprint(inventory)\n\nprint(len(inventory))\n  # Unique elements\n\nprint(sum(inventory.values()))\n # Total no. of elements",
      "metadata": {
        "trusted": true
      },
      "execution_count": 3,
      "outputs": [
        {
          "name": "stdout",
          "text": "Counter({'bread': 3, 'sword': 1})\nCounter({'bread': 3, 'sword': 2, 'apple': 1})\n3\n6\n",
          "output_type": "stream"
        }
      ]
    },
    {
      "cell_type": "code",
      "source": "",
      "metadata": {},
      "execution_count": null,
      "outputs": []
    }
  ]
}