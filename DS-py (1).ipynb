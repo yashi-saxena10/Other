{
  "metadata": {
    "language_info": {
      "codemirror_mode": {
        "name": "python",
        "version": 3
      },
      "file_extension": ".py",
      "mimetype": "text/x-python",
      "name": "python",
      "nbconvert_exporter": "python",
      "pygments_lexer": "ipython3",
      "version": "3.8"
    },
    "kernelspec": {
      "name": "python",
      "display_name": "Pyolite",
      "language": "python"
    }
  },
  "nbformat_minor": 4,
  "nbformat": 4,
  "cells": [
    {
      "cell_type": "code",
      "source": "#following : https://realpython.com/python-data-structures/\n\n#dict-->Your Go-To Dictionary\n#Dicts can hold an arbitrary number of objects, each with its own dictionary key.\n#Maps, hashmaps, lookup tables, and associative arrays are other names for dictionaries. \n#They make it possible to efficiently look up, insert, and delete any object associated with a given key.\n\n#Phone books are a good analogy for dictionary objects in the real world.\n\n#syntax: curly braces {}\n\n#Python’s dictionaries can be of any hashable type.\n#Hashable object: has a hash value that does not change over time (see __hash__) and can be compared to other objects (see __eq__). \n#Hashable objects with the same hash value must be compared as equal.\n\n#also use tuple objects as dictionary keys\n#Immutable types like strings and numbers work well as dictionary keys\n\n#class attributes and variables in a stack frame are both stored internally in dictionaries.\n\n#O(1) time complexity for lookup, insert, update, and delete operations in the average case.\n\nphonebook = {\n     \"bob\": 7387,\n     \"alice\": 3719,\n    \"jack\": 7052,\n}\n\nprint(\"alice\",phonebook['alice'])\n\nsquares = {x: x * x for x in range(6)} \nprint(squares)",
      "metadata": {
        "trusted": true
      },
      "execution_count": 4,
      "outputs": [
        {
          "name": "stdout",
          "text": "alice 3719\n{0: 0, 1: 1, 2: 4, 3: 9, 4: 16, 5: 25}\n",
          "output_type": "stream"
        }
      ]
    },
    {
      "cell_type": "code",
      "source": "#collections.OrderedDict-->specialized dict subclass that remembers the insertion order of keys\n\nimport collections\nod = collections.OrderedDict(one=1, two=2, three=3)\nprint(od)\n\nod[\"four\"] = 4\nprint(od)\n\nprint(od.keys())",
      "metadata": {
        "trusted": true
      },
      "execution_count": 5,
      "outputs": [
        {
          "name": "stdout",
          "text": "OrderedDict([('one', 1), ('two', 2), ('three', 3)])\nOrderedDict([('one', 1), ('two', 2), ('three', 3), ('four', 4)])\nodict_keys(['one', 'two', 'three', 'four'])\n",
          "output_type": "stream"
        }
      ]
    },
    {
      "cell_type": "code",
      "source": "#collections.defaultdict-->Return Default Values for Missing Keys\n#When each key is encountered for the first time, it is not already in the mapping; \n#so an entry is automatically created using the default_factory function which returns an empty list. \n#The list.append() operation then attaches the value to the new list. \n#When keys are encountered again, the look-up proceeds normally (returning the list for that key) and the list.append() operation adds another value to the list. \n#This technique is simpler and faster than an equivalent technique using dict.setdefault():\n\nfrom collections import defaultdict\ndd = defaultdict(list)\ndd[\"dogs\"].append(\"Rufus\")\ndd[\"dogs\"].append(\"Kathrin\")\ndd[\"dogs\"].append(\"Mr Sniffles\")\nprint(dd)",
      "metadata": {
        "trusted": true
      },
      "execution_count": 8,
      "outputs": [
        {
          "name": "stdout",
          "text": "defaultdict(<class 'list'>, {'dogs': ['Rufus', 'Kathrin']})\n",
          "output_type": "stream"
        }
      ]
    },
    {
      "cell_type": "code",
      "source": "#collections.ChainMap-->Search Multiple Dictionaries as a Single Mapping\n# ChainMap searches each collection in the chain\n# from left to right until it finds the key (or fails):\nfrom collections import ChainMap\ndict1 = {\"one\": 1, \"two\": 2}\ndict2 = {\"three\": 3, \"four\": 4}\nchain = ChainMap(dict1, dict2)\n\nprint(chain)\nprint(chain[\"three\"])\nprint(chain[\"missing\"]) #KeyError: 'missing'",
      "metadata": {
        "trusted": true
      },
      "execution_count": 9,
      "outputs": [
        {
          "name": "stdout",
          "text": "ChainMap({'one': 1, 'two': 2}, {'three': 3, 'four': 4})\n3\n",
          "output_type": "stream"
        },
        {
          "ename": "<class 'KeyError'>",
          "evalue": "'missing'",
          "traceback": [
            "\u001b[0;31m---------------------------------------------------------------------------\u001b[0m",
            "\u001b[0;31mKeyError\u001b[0m                                  Traceback (most recent call last)",
            "Input \u001b[0;32mIn [9]\u001b[0m, in \u001b[0;36m<cell line: 11>\u001b[0;34m()\u001b[0m\n\u001b[1;32m      9\u001b[0m \u001b[38;5;28mprint\u001b[39m(chain)\n\u001b[1;32m     10\u001b[0m \u001b[38;5;28mprint\u001b[39m(chain[\u001b[38;5;124m\"\u001b[39m\u001b[38;5;124mthree\u001b[39m\u001b[38;5;124m\"\u001b[39m])\n\u001b[0;32m---> 11\u001b[0m \u001b[38;5;28mprint\u001b[39m(\u001b[43mchain\u001b[49m\u001b[43m[\u001b[49m\u001b[38;5;124;43m\"\u001b[39;49m\u001b[38;5;124;43mmissing\u001b[39;49m\u001b[38;5;124;43m\"\u001b[39;49m\u001b[43m]\u001b[49m)\n",
            "File \u001b[0;32m/lib/python3.10/collections/__init__.py:982\u001b[0m, in \u001b[0;36mChainMap.__getitem__\u001b[0;34m(self, key)\u001b[0m\n\u001b[1;32m    980\u001b[0m     \u001b[38;5;28;01mexcept\u001b[39;00m \u001b[38;5;167;01mKeyError\u001b[39;00m:\n\u001b[1;32m    981\u001b[0m         \u001b[38;5;28;01mpass\u001b[39;00m\n\u001b[0;32m--> 982\u001b[0m \u001b[38;5;28;01mreturn\u001b[39;00m \u001b[38;5;28;43mself\u001b[39;49m\u001b[38;5;241;43m.\u001b[39;49m\u001b[38;5;21;43m__missing__\u001b[39;49m\u001b[43m(\u001b[49m\u001b[43mkey\u001b[49m\u001b[43m)\u001b[49m\n",
            "File \u001b[0;32m/lib/python3.10/collections/__init__.py:974\u001b[0m, in \u001b[0;36mChainMap.__missing__\u001b[0;34m(self, key)\u001b[0m\n\u001b[1;32m    973\u001b[0m \u001b[38;5;28;01mdef\u001b[39;00m \u001b[38;5;21m__missing__\u001b[39m(\u001b[38;5;28mself\u001b[39m, key):\n\u001b[0;32m--> 974\u001b[0m     \u001b[38;5;28;01mraise\u001b[39;00m \u001b[38;5;167;01mKeyError\u001b[39;00m(key)\n",
            "\u001b[0;31mKeyError\u001b[0m: 'missing'"
          ],
          "output_type": "error"
        }
      ]
    },
    {
      "cell_type": "code",
      "source": "#types.MappingProxyType-->A Wrapper for Making Read-Only Dictionaries\n#create immutable proxy versions of dictionaries.\n\nfrom types import MappingProxyType\nwritable = {\"one\": 1, \"two\": 2}\nread_only = MappingProxyType(writable)\n\nprint(read_only[\"one\"])\nread_only[\"one\"] = 23 #TypeError: 'mappingproxy' object does not support item assignment\n\nwritable[\"one\"] = 42",
      "metadata": {
        "trusted": true
      },
      "execution_count": 10,
      "outputs": [
        {
          "name": "stdout",
          "text": "1\n",
          "output_type": "stream"
        },
        {
          "ename": "<class 'TypeError'>",
          "evalue": "'mappingproxy' object does not support item assignment",
          "traceback": [
            "\u001b[0;31m---------------------------------------------------------------------------\u001b[0m",
            "\u001b[0;31mTypeError\u001b[0m                                 Traceback (most recent call last)",
            "Input \u001b[0;32mIn [10]\u001b[0m, in \u001b[0;36m<cell line: 9>\u001b[0;34m()\u001b[0m\n\u001b[1;32m      6\u001b[0m read_only \u001b[38;5;241m=\u001b[39m MappingProxyType(writable)\n\u001b[1;32m      8\u001b[0m \u001b[38;5;28mprint\u001b[39m(read_only[\u001b[38;5;124m\"\u001b[39m\u001b[38;5;124mone\u001b[39m\u001b[38;5;124m\"\u001b[39m])\n\u001b[0;32m----> 9\u001b[0m read_only[\u001b[38;5;124m\"\u001b[39m\u001b[38;5;124mone\u001b[39m\u001b[38;5;124m\"\u001b[39m] \u001b[38;5;241m=\u001b[39m \u001b[38;5;241m23\u001b[39m\n\u001b[1;32m     11\u001b[0m writable[\u001b[38;5;124m\"\u001b[39m\u001b[38;5;124mone\u001b[39m\u001b[38;5;124m\"\u001b[39m] \u001b[38;5;241m=\u001b[39m \u001b[38;5;241m42\u001b[39m\n",
            "\u001b[0;31mTypeError\u001b[0m: 'mappingproxy' object does not support item assignment"
          ],
          "output_type": "error"
        }
      ]
    },
    {
      "cell_type": "code",
      "source": "#Array Data Structures\n#contiguous data structures \n#A real-world analogy for an array data structure is a parking lot\n#parking lot as a whole and treat it as a single object, \n#but inside the lot there are parking spots indexed by a unique number. Parking spots are containers for vehicles\n\n#list-->Mutable Dynamic Arrays\n#implemented as dynamic arrays behind the scenes.\n#allows elements to be added or removed, and the list will automatically adjust the backing store that holds these elements by allocating or releasing memory.\n#Python lists can hold arbitrary elements—everything is an object in Python, including functions.\n\narr = [\"one\", \"two\", \"three\"]\nprint(arr[0])\n\n#Lists have a nice repr:\nprint(arr)\n\n#Lists are mutable:\narr[1] = \"hello\"\nprint(arr)\n\ndel arr[1]\nprint(arr)\n\n#Lists can hold arbitrary data types:\narr.append(23)\nprint(arr)",
      "metadata": {
        "trusted": true
      },
      "execution_count": 12,
      "outputs": [
        {
          "name": "stdout",
          "text": "one\n['one', 'two', 'three']\n['one', 'hello', 'three']\n['one', 'three']\n['one', 'three', 23]\n",
          "output_type": "stream"
        }
      ]
    },
    {
      "cell_type": "code",
      "source": "#tuple-->Immutable Containers\n#elements can’t be added or removed dynamically—all elements in a tuple must be defined at creation time.\n\narr = (\"one\", \"two\", \"three\")\nprint(arr[0])\n\n\n# Tuples have a nice repr:\nprint(arr)\n\n# Tuples are immutable:\narr[1] = \"hello\" #TypeError: 'tuple' object does not support item assignment\n\ndel arr[1] #TypeError: 'tuple' object doesn't support item deletion\n\n# Tuples can hold arbitrary data types:\n# (Adding elements creates a copy of the tuple)\narr + (23,)\nprint(arr)",
      "metadata": {
        "trusted": true
      },
      "execution_count": 13,
      "outputs": [
        {
          "name": "stdout",
          "text": "one\n('one', 'two', 'three')\n",
          "output_type": "stream"
        },
        {
          "ename": "<class 'TypeError'>",
          "evalue": "'tuple' object does not support item assignment",
          "traceback": [
            "\u001b[0;31m---------------------------------------------------------------------------\u001b[0m",
            "\u001b[0;31mTypeError\u001b[0m                                 Traceback (most recent call last)",
            "Input \u001b[0;32mIn [13]\u001b[0m, in \u001b[0;36m<cell line: 12>\u001b[0;34m()\u001b[0m\n\u001b[1;32m      9\u001b[0m \u001b[38;5;28mprint\u001b[39m(arr)\n\u001b[1;32m     11\u001b[0m \u001b[38;5;66;03m# Tuples are immutable:\u001b[39;00m\n\u001b[0;32m---> 12\u001b[0m arr[\u001b[38;5;241m1\u001b[39m] \u001b[38;5;241m=\u001b[39m \u001b[38;5;124m\"\u001b[39m\u001b[38;5;124mhello\u001b[39m\u001b[38;5;124m\"\u001b[39m \u001b[38;5;66;03m#TypeError: 'tuple' object does not support item assignment\u001b[39;00m\n\u001b[1;32m     14\u001b[0m \u001b[38;5;28;01mdel\u001b[39;00m arr[\u001b[38;5;241m1\u001b[39m] \u001b[38;5;66;03m#TypeError: 'tuple' object doesn't support item deletion\u001b[39;00m\n\u001b[1;32m     16\u001b[0m \u001b[38;5;66;03m# Tuples can hold arbitrary data types:\u001b[39;00m\n\u001b[1;32m     17\u001b[0m \u001b[38;5;66;03m# (Adding elements creates a copy of the tuple)\u001b[39;00m\n",
            "\u001b[0;31mTypeError\u001b[0m: 'tuple' object does not support item assignment"
          ],
          "output_type": "error"
        }
      ]
    },
    {
      "cell_type": "code",
      "source": "#array.array-->Basic Typed Arrays\n#they’re typed arrays constrained to a single data type\n\n",
      "metadata": {},
      "execution_count": null,
      "outputs": []
    }
  ]
}